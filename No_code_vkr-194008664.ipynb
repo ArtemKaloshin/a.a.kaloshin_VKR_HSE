{
 "cells": [
  {
   "cell_type": "code",
   "execution_count": null,
   "id": "6fb4c3a1-adea-4d42-800a-3be95b5109e2",
   "metadata": {},
   "outputs": [],
   "source": []
  },
  {
   "cell_type": "code",
   "execution_count": null,
   "id": "94a411f5-4b05-48af-964f-32a07237dfa0",
   "metadata": {},
   "outputs": [],
   "source": [
    "import pandas as pd\n",
    "import numpy as np\n",
    "import matplotlib.pyplot as plt\n",
    "import sklearn\n",
    "from sklearn.preprocessing import OneHotEncoder\n",
    "from sklearn.model_selection import train_test_split\n",
    "import seaborn as sns\n",
    "import matplotlib.pyplot as plt\n",
    "from sklearn.metrics import confusion_matrix, classification_report, roc_curve, auc, roc_auc_score, average_precision_score\n",
    "import catboost\n",
    "from catboost import CatBoostClassifier\n",
    "from sklearn.preprocessing import StandardScaler\n",
    "import optuna\n",
    "from optuna.samplers import TPESampler\n",
    "from catboost.utils import eval_metric\n",
    "import xgboost as xgb\n",
    "from sklearn.ensemble import RandomForestClassifier\n",
    "import lightgbm as lgb\n",
    "from sklearn.ensemble import VotingClassifier\n",
    "from sklearn.metrics import accuracy_score, precision_score, recall_score, confusion_matrix\n",
    "from sklearn.model_selection import FixedThresholdClassifier\n"
   ]
  },
  {
   "cell_type": "markdown",
   "id": "b4c89ca6-954e-492d-b237-3af3763f879b",
   "metadata": {},
   "source": [
    "EDA & Preprocessing"
   ]
  },
  {
   "cell_type": "code",
   "execution_count": null,
   "id": "8f81e8b9-a58e-46c2-8836-fd81e39b16c0",
   "metadata": {},
   "outputs": [],
   "source": [
    "def calculate_percent_empty(df):\n",
    "    result = []\n",
    "    for column in df.columns:\n",
    "        percent_empty = df[column].isna().mean() * 100\n",
    "        if percent_empty > 0:\n",
    "            column_type = df[column].dtype\n",
    "            result.append((column, f\"{percent_empty:.3f}%\", column_type))\n",
    "    result_df = pd.DataFrame(result, columns=['Column', 'Percent Empty', 'Data Type'])\n",
    "    return result_df\n",
    "\n",
    "result = calculate_percent_empty(df)\n",
    "result"
   ]
  },
  {
   "cell_type": "code",
   "execution_count": null,
   "id": "12260001-962a-4330-b4a6-3f1d11b3361c",
   "metadata": {},
   "outputs": [],
   "source": [
    "numerical_features = df_te.select_dtypes(include=['int64', 'float64']).columns\n",
    "\n",
    "corr_matrix = df_te[numerical_features].corr()\n",
    "\n",
    "plt.figure(figsize=(14, 8))\n",
    "sns.heatmap(corr_matrix, annot=False, cmap='coolwarm', square=True)\n",
    "plt.title('Correlation Matrix')\n",
    "plt.show()"
   ]
  },
  {
   "cell_type": "code",
   "execution_count": null,
   "id": "06b8ca52-13f5-4240-9f4b-a51f66ce18da",
   "metadata": {},
   "outputs": [],
   "source": [
    "def correlation_matrix(df, threshold): # > threshold\n",
    "    correlation_matrix = df.corr()\n",
    "    high_correlation = correlation_matrix[correlation_matrix.abs() > threshold]\n",
    "    high_corr_pairs = correlation_matrix.stack().reset_index()\n",
    "    high_corr_pairs.columns = ['Feature 1', 'Feature 2', 'Correlation']\n",
    "    high_corr_pairs = high_corr_pairs[high_corr_pairs['Correlation'].abs() > threshold]\n",
    "    high_corr_pairs = high_corr_pairs[high_corr_pairs['Feature 1'] != high_corr_pairs['Feature 2']]\n",
    "    high_corr_pairs['Pair'] = high_corr_pairs.apply(lambda x: tuple(sorted([x['Feature 1'], x['Feature 2']])), axis=1)\n",
    "    unique_pairs = high_corr_pairs.drop_duplicates(subset='Pair')\n",
    "    unique_pairs = unique_pairs[['Feature 1', 'Feature 2', 'Correlation']].sort_values(by='Correlation', ascending=False)\n",
    "    return unique_pairs\n",
    "\n",
    "data_correlation_matrix = correlation_matrix(df_te, 0.6)\n",
    "data_correlation_matrix"
   ]
  },
  {
   "cell_type": "code",
   "execution_count": null,
   "id": "6c17f982-1af9-45f2-a221-1be36942a37a",
   "metadata": {},
   "outputs": [],
   "source": [
    "class Transfomer(object):\n",
    "    def __init__(self, fill_value=True, one_hot_encoder_flg=False, drop_columns=[], scale_features=None, \n",
    "                 nan_new_value_column = \n",
    "                 [\"////////////\"],\n",
    "                categorical_features = [\"//////////////\"]\n",
    "                ):\n",
    "\n",
    "        self.drop_columns = [\"///////////\"] + drop_columns\n",
    "\n",
    "        self.nan_mean_column = [\"/////////\"]\n",
    "        self.nan_mean_dic = {}\n",
    "\n",
    "        self.nan_mode_column = [\"//////////\"]\n",
    "        self.nan_mode_dic = {}\n",
    "\n",
    "        self.nan_new_value_column = nan_new_value_column\n",
    "\n",
    "        self.nan_new_value_dic = {column: \"Unknown\" for column in self.nan_new_value_column}\n",
    "\n",
    "        self.fill_value = fill_value\n",
    "\n",
    "        #Scaler\n",
    "        self.scale_features = scale_features if scale_features is not None else []\n",
    "        self.scaler = None\n",
    "        #OneHotEncoder\n",
    "        self.categorical_features = categorical_features\n",
    "\n",
    "        self.categorical_features = list(set(self.categorical_features) - set(self.drop_columns))\n",
    "        self.one_hot_encoder_flg = one_hot_encoder_flg\n",
    "        self.one_hot_encoder = None\n",
    "\n",
    "    def fit(self, X):\n",
    "        if self.fill_value:\n",
    "            for column in self.nan_mean_column:\n",
    "                self.nan_mean_dic[column] = X[column].mean()\n",
    "    \n",
    "            for column in self.nan_mode_column:\n",
    "                self.nan_mode_dic[column] = X[column].mode()[0]\n",
    "\n",
    "        if self.scale_features:\n",
    "            self.scaler = StandardScaler()\n",
    "            self.scaler.fit(X[self.scale_features])\n",
    "\n",
    "\n",
    "        self.one_hot_encoder = OneHotEncoder(handle_unknown='ignore')\n",
    "        self.one_hot_encoder.fit(X[self.categorical_features].fillna(\"Unknown\"))\n",
    "\n",
    "    def transform(self, X):\n",
    "        res = X.copy()\n",
    "        res.fillna({\n",
    "            **self.nan_new_value_dic\n",
    "        }, inplace=True)\n",
    "        \n",
    "        if self.fill_value:\n",
    "            res = X.copy() \\\n",
    "                   .drop(columns=self.drop_columns)\n",
    "            res.fillna({\n",
    "                **self.nan_mean_dic,\n",
    "                **self.nan_mode_dic\n",
    "            }, inplace=True)\n",
    "\n",
    "\n",
    "        if self.one_hot_encoder_flg:\n",
    "            res_one_hot = self.one_hot_encoder.transform(X[self.categorical_features])\n",
    "            res_one_hot = pd.DataFrame(res_one_hot.toarray(), index=X.index, columns=self.one_hot_encoder.get_feature_names_out())\n",
    "            res = res.drop(self.categorical_features, axis=1)\n",
    "            res = pd.concat([res, res_one_hot], axis=1)\n",
    "\n",
    "        if self.scale_features:\n",
    "            res[self.scale_features] = self.scaler.transform(res[self.scale_features])\n",
    "\n",
    "        return res\n",
    "\n",
    "    def fit_transform(self, X):\n",
    "        self.fit(X)\n",
    "        return self.transform(X)"
   ]
  },
  {
   "cell_type": "code",
   "execution_count": null,
   "id": "b1bff96e-79b2-4695-a684-3becbd61ca80",
   "metadata": {},
   "outputs": [],
   "source": [
    "transformer_main = Transfomer(fill_value=False, one_hot_encoder_flg=True, scale_features=['///'])\n",
    "transformer_main.fit(df)\n",
    "df_encode = transformer_main.transform(df)"
   ]
  },
  {
   "cell_type": "markdown",
   "id": "f8799515-77fe-48fc-9bd6-140ad5e4fd7b",
   "metadata": {},
   "source": [
    "Base CatBoost Model"
   ]
  },
  {
   "cell_type": "code",
   "execution_count": null,
   "id": "f4feccb0-9329-4c84-bad0-2bf945f9293c",
   "metadata": {},
   "outputs": [],
   "source": [
    "X = df_encode.drop(columns=[\"target\"])\n",
    "Y = df_encode[\"target\"]\n",
    "\n",
    "\n",
    "X_train, X_test, Y_train, Y_test = train_test_split(X, Y, test_size=0.2, random_state=42, stratify=Y)\n",
    "X_valid, X_test, Y_valid, Y_test = train_test_split(X_test, Y_test, test_size=0.33, random_state=42, stratify=Y_test)\n",
    "\n",
    "transformer_train = Transfomer(one_hot_encoder_flg=False, nan_new_value_column=[], categorical_features= [])\n",
    "transformer_train.fit(X_train)\n",
    "X_train_transformed = transformer_train.transform(X_train)\n",
    "\n",
    "transformer_test = Transfomer(one_hot_encoder_flg=False, nan_new_value_column=[], categorical_features= [])\n",
    "transformer_test.fit(X_test)\n",
    "X_test_transformed = transformer_test.transform(X_test)\n",
    "\n",
    "transformer_valid = Transfomer(one_hot_encoder_flg=False, nan_new_value_column=[], categorical_features= [])\n",
    "transformer_valid.fit(X_valid)\n",
    "X_valid_transformed = transformer_valid.transform(X_valid)\n",
    "\n",
    "print(X_train_transformed.shape)\n",
    "print(Y_train.shape)\n",
    "print(X_test_transformed.shape)\n",
    "print(Y_test.shape)\n",
    "print(X_valid_transformed.shape)\n",
    "print(Y_valid.shape)"
   ]
  },
  {
   "cell_type": "code",
   "execution_count": null,
   "id": "16e8f5d1-45b4-45c0-993f-454994b05afe",
   "metadata": {},
   "outputs": [],
   "source": [
    "X_train_transformed.isna().sum()"
   ]
  },
  {
   "cell_type": "code",
   "execution_count": null,
   "id": "04e13fb3-dd30-4756-ad9c-0a9e844b3217",
   "metadata": {},
   "outputs": [],
   "source": [
    "cat_train_pool = catboost.Pool(X_train_transformed, Y_train)\n",
    "cat_val_pool = catboost.Pool(X_valid_transformed, Y_valid)\n",
    "cat_test_pool = catboost.Pool(X_test_transformed, Y_test)"
   ]
  },
  {
   "cell_type": "markdown",
   "id": "60a638ae-67f3-47c1-84fa-541fcc42a2c5",
   "metadata": {},
   "source": [
    "Model Tuning"
   ]
  },
  {
   "cell_type": "code",
   "execution_count": null,
   "id": "7ee65e5f-48af-4566-93c5-542b58ab9925",
   "metadata": {},
   "outputs": [],
   "source": [
    "def objective(trial):\n",
    "    params = {\n",
    "        'learning_rate': trial.suggest_float('learning_rate', 0.01, 0.1),\n",
    "        'depth': trial.suggest_int('depth', 3, 10),\n",
    "        'l2_leaf_reg': trial.suggest_float('l2_leaf_reg', 1, 10),\n",
    "        'boosting_type': trial.suggest_categorical('boosting_type', ['Ordered', 'Plain']),\n",
    "        'max_ctr_complexity': trial.suggest_int('max_ctr_complexity', 0, 8),\n",
    "        'iterations': 100\n",
    "    }\n",
    "\n",
    "    model = catboost.CatBoostClassifier(**params, random_seed=42)\n",
    "    model.fit(cat_train_pool, verbose=0, eval_set=cat_val_pool)\n",
    "    y_pred = model.predict_proba(cat_val_pool)\n",
    "    return eval_metric(cat_val_pool.get_label(), y_pred[:, 1], 'AUC')\n",
    "\n",
    "sampler = TPESampler(seed=123)\n",
    "study = optuna.create_study(direction='maximize', sampler=sampler)\n",
    "study.optimize(objective, n_trials=20)"
   ]
  },
  {
   "cell_type": "code",
   "execution_count": null,
   "id": "beb105bd-808c-4fee-8ae8-f3a24dda7d11",
   "metadata": {},
   "outputs": [],
   "source": [
    "params = {\n",
    "'learning_rate': 0.0861912916877385, 'depth': 10, 'l2_leaf_reg': 6.147444224443349, 'boosting_type': 'Ordered', 'max_ctr_complexity': 7,\n",
    "    'iterations': 300\n",
    "}"
   ]
  },
  {
   "cell_type": "code",
   "execution_count": null,
   "id": "86679ba9-48c3-4905-9f17-45ea071ff8cb",
   "metadata": {},
   "outputs": [],
   "source": [
    "model = catboost.CatBoostClassifier(**params,\n",
    "                                    random_state=42,)\n",
    "\n",
    "model.fit(X_train_transformed, Y_train,\n",
    "          #cat_features=transformer_train.categorical_features\n",
    "         )"
   ]
  },
  {
   "cell_type": "markdown",
   "id": "32851a7f-cfa6-4986-9de0-8f8012e87d69",
   "metadata": {},
   "source": [
    "Metrics"
   ]
  },
  {
   "cell_type": "code",
   "execution_count": null,
   "id": "38ad424b-69fc-436c-91bb-6b1f3a4daeed",
   "metadata": {},
   "outputs": [],
   "source": [
    "Y_pred_valid = model.predict(X_valid_transformed)\n",
    "confusion_matrix(Y_valid, Y_pred_valid)\n",
    "\n",
    "Y_pred_test = model.predict(X_test_transformed)\n",
    "confusion_matrix(Y_test, Y_pred_test)\n",
    "\n",
    "print(classification_report(Y_valid, Y_pred_valid))\n",
    "\n",
    "print(classification_report(Y_test, Y_pred_test))\n",
    "\n",
    "Y_pred_prob_valid = model.predict_proba(X_valid_transformed)\n",
    "ap_score = average_precision_score(Y_valid, Y_pred_prob_valid[:,1])\n",
    "print(ap_score)\n",
    "\n",
    "Y_pred_prob_test = model.predict_proba(X_test_transformed)\n",
    "ap_score = average_precision_score(Y_test, Y_pred_prob_test[:,1])\n",
    "print(ap_score)"
   ]
  },
  {
   "cell_type": "code",
   "execution_count": null,
   "id": "541fe4e0-0103-450d-ab16-7815b26fd71e",
   "metadata": {},
   "outputs": [],
   "source": [
    "Y_pred_prob_train = model.predict_proba(X_train_transformed)\n",
    "Y_pred_prob = model.predict_proba(X_valid_transformed)\n",
    "Y_pred_prob_test = model.predict_proba(X_test_transformed)\n",
    "\n",
    "# ROC valid\n",
    "fpr_valid, tpr_valid, thresholds_valid = roc_curve(Y_valid, Y_pred_prob[:,1])\n",
    "roc_auc_valid = auc(fpr_valid, tpr_valid)\n",
    "\n",
    "# ROC train\n",
    "fpr_train, tpr_train, thresholds_train = roc_curve(Y_train, Y_pred_prob_train[:,1])\n",
    "roc_auc_train = auc(fpr_train, tpr_train)\n",
    "\n",
    "# ROC test\n",
    "fpr_test, tpr_test, thresholds_test = roc_curve(Y_test, Y_pred_prob_test[:,1])\n",
    "roc_auc_test = auc(fpr_test, tpr_test)\n",
    "\n",
    "lw = 2\n",
    "plt.figure()\n",
    "\n",
    "plt.plot(fpr_valid, tpr_valid, color='darkorange', lw=lw, \n",
    "         label='ROC curve (valid) (area = %0.2f)' % roc_auc_valid)\n",
    "\n",
    "plt.plot(fpr_train, tpr_train, color='blue', lw=lw, \n",
    "         label='ROC curve (train) (area = %0.2f)' % roc_auc_train)\n",
    "\n",
    "plt.plot(fpr_test, tpr_test, color='green', lw=lw, \n",
    "         label='ROC curve (test) (area = %0.2f)' % roc_auc_test)\n",
    "\n",
    "plt.plot([0, 1], [0, 1], color='navy', lw=lw, linestyle='--')\n",
    "\n",
    "plt.xlim([0.0, 1.0])\n",
    "plt.ylim([0.0, 1.05])\n",
    "plt.xlabel('False Positive Rate')\n",
    "plt.ylabel('True Positive Rate')\n",
    "plt.title('Receiver operating characteristic')\n",
    "plt.legend(loc=\"lower right\")\n",
    "plt.show()"
   ]
  },
  {
   "cell_type": "code",
   "execution_count": null,
   "id": "4757f13a-a25d-48fb-8b83-feb6ddd70bdb",
   "metadata": {},
   "outputs": [],
   "source": []
  },
  {
   "cell_type": "code",
   "execution_count": null,
   "id": "a5066f69-31ba-4353-bcd1-50938ce47063",
   "metadata": {},
   "outputs": [],
   "source": []
  },
  {
   "cell_type": "markdown",
   "id": "f351f743-d674-4be3-bf51-b1d8f6b59cb0",
   "metadata": {},
   "source": [
    "Main part. Modelling"
   ]
  },
  {
   "cell_type": "code",
   "execution_count": null,
   "id": "4fbe8852-a7d6-435f-93a7-0ebeee89b139",
   "metadata": {},
   "outputs": [],
   "source": [
    "X = df_encode.drop(columns=[\"target\"])\n",
    "Y = df_encode[\"target\"]\n",
    "\n",
    "\n",
    "X_train, X_valid, Y_train, Y_valid = train_test_split(X, Y, test_size=0.2, random_state=42, stratify=Y)\n",
    "\n",
    "transformer_train = Transfomer(one_hot_encoder_flg=False, nan_new_value_column=[], categorical_features= [])\n",
    "transformer_train.fit(X_train)\n",
    "X_train_transformed = transformer_train.transform(X_train)\n",
    "\n",
    "transformer_valid = Transfomer(one_hot_encoder_flg=False, nan_new_value_column=[], categorical_features= [])\n",
    "transformer_valid.fit(X_valid)\n",
    "X_valid_transformed = transformer_valid.transform(X_valid)\n",
    "\n",
    "print(X_train_transformed.shape)\n",
    "print(Y_train.shape)\n",
    "print(X_valid_transformed.shape)\n",
    "print(Y_valid.shape)"
   ]
  },
  {
   "cell_type": "markdown",
   "id": "353c0f43-07e5-4d68-8946-5e3a96eb76da",
   "metadata": {},
   "source": [
    "Оптимизация и кросс-валидация"
   ]
  },
  {
   "cell_type": "code",
   "execution_count": null,
   "id": "fe37557e-5aa5-4ee8-b300-72c530cd6d61",
   "metadata": {},
   "outputs": [],
   "source": [
    "Y_train.value_counts() # scale"
   ]
  },
  {
   "cell_type": "code",
   "execution_count": null,
   "id": "d27ba56c-c96b-475c-bcb0-0ec046055ab6",
   "metadata": {},
   "outputs": [],
   "source": [
    "# CatBoost\n",
    "search = optuna.integration.OptunaSearchCV(\n",
    "    estimator=CatBoostClassifier(scale_pos_weight=scale, random_state=42, iterations=100, verbose=0),\n",
    "    param_distributions={\n",
    "        'learning_rate': optuna.distributions.FloatDistribution(0.01, 0.1),\n",
    "        'depth': optuna.distributions.IntDistribution(3, 10),\n",
    "        'l2_leaf_reg': optuna.distributions.FloatDistribution(0.1, 10.0),\n",
    "        'max_ctr_complexity': optuna.distributions.IntDistribution(0, 8),\n",
    "        'boosting_type': optuna.distributions.CategoricalDistribution(['Ordered', 'Plain'])\n",
    "    },\n",
    "\n",
    "    \n",
    "    cv=5,\n",
    "    n_trials=20,\n",
    "    random_state=42,\n",
    "    scoring='recall_macro'\n",
    ")\n",
    "\n",
    "search.fit(X_train_transformed, Y_train)\n",
    "\n",
    "print('Best params:', search.best_params_)\n",
    "print('Best score:', search.best_score_)"
   ]
  },
  {
   "cell_type": "code",
   "execution_count": null,
   "id": "1c579bcb-31c1-43d5-8a2f-1875b73fc123",
   "metadata": {},
   "outputs": [],
   "source": [
    "params = {\n",
    "'learning_rate': 0.07482501462190899, 'depth': 8, 'l2_leaf_reg': 9.63710157921392, 'max_ctr_complexity': 8, 'boosting_type': 'Plain'\n",
    "}\n",
    "\n",
    "\n",
    "model_cat = catboost.CatBoostClassifier(**params,\n",
    "                                    scale_pos_weight=scale, random_state=42, iterations=300, verbose=1)\n",
    "\n",
    "model_cat.fit(X_train_transformed, Y_train,\n",
    "         )"
   ]
  },
  {
   "cell_type": "code",
   "execution_count": null,
   "id": "af52aff1-f8f5-474e-a131-8d76c7ea52cb",
   "metadata": {},
   "outputs": [],
   "source": []
  },
  {
   "cell_type": "code",
   "execution_count": null,
   "id": "0dac6e5a-7174-429e-aa9c-950904948178",
   "metadata": {},
   "outputs": [],
   "source": [
    "# XGBoost\n",
    "search_xgb = optuna.integration.OptunaSearchCV(\n",
    "    estimator=xgb.XGBClassifier(scale_pos_weight=scale, random_state=42, verbose=0, n_estimators=180),  #scale_pos_weight - sum(negative instances) / sum(positive instances)\n",
    "    param_distributions={\n",
    "        'max_depth': optuna.distributions.IntDistribution(3, 18),\n",
    "        'gamma': optuna.distributions.IntDistribution(1, 9),\n",
    "        'learning_rate': optuna.distributions.FloatDistribution(0.01, 0.2),\n",
    "        'reg_alpha' : optuna.distributions.IntDistribution(40,180),\n",
    "        'reg_lambda' : optuna.distributions.FloatDistribution(0,1),\n",
    "        'colsample_bytree' : optuna.distributions.FloatDistribution(0.5,1),\n",
    "        'min_child_weight' : optuna.distributions.IntDistribution(0, 10)\n",
    "    },\n",
    "\n",
    "    cv=5,\n",
    "    n_trials=20,\n",
    "    random_state=42,\n",
    "    scoring='recall_macro'\n",
    ")\n",
    "\n",
    "search_xgb.fit(X_train_transformed, Y_train)\n",
    "\n",
    "print('Best params', search_xgb.best_params_)\n",
    "print('Best score:', search_xgb.best_score_)"
   ]
  },
  {
   "cell_type": "code",
   "execution_count": null,
   "id": "9fa7915c-50ef-4538-91be-13995130f93b",
   "metadata": {},
   "outputs": [],
   "source": [
    "params = {\n",
    "'max_depth': 8, 'gamma': 5, 'learning_rate': 0.052343651876687255, 'reg_alpha': 141, 'reg_lambda': 0.5958114395169417, 'colsample_bytree': 0.9097366100669799, 'min_child_weight': 10\n",
    "}\n",
    "\n",
    "\n",
    "model_xg = xgb.XGBClassifier(**params,\n",
    "                              scale_pos_weight=scale, random_state=42, n_estimators=200, verbose=0)\n",
    "\n",
    "model_xg.fit(X_train_transformed, Y_train,\n",
    "         )"
   ]
  },
  {
   "cell_type": "code",
   "execution_count": null,
   "id": "e7699cd6-8e81-411c-ab70-5bc40dc1871d",
   "metadata": {},
   "outputs": [],
   "source": []
  },
  {
   "cell_type": "code",
   "execution_count": null,
   "id": "95086f7c-db54-43c3-9d5f-5e82d10746f0",
   "metadata": {},
   "outputs": [],
   "source": [
    "# RandomForest\n",
    "search_rf = optuna.integration.OptunaSearchCV(\n",
    "    estimator=RandomForestClassifier(class_weight='balanced', random_state=42, verbose=0, n_estimators=100),  \n",
    "    param_distributions={\n",
    "        'min_samples_leaf': optuna.distributions.IntDistribution(1, 10),\n",
    "        'max_depth': optuna.distributions.IntDistribution(10, 30),\n",
    "        'min_samples_split' : optuna.distributions.IntDistribution(2,10)\n",
    "    },\n",
    "\n",
    "    cv=5,\n",
    "    n_trials=20,\n",
    "    random_state=42,\n",
    "    scoring='recall_macro'\n",
    ")\n",
    "\n",
    "# Запустите поиск гиперпараметров\n",
    "search_rf.fit(X_train_transformed, Y_train)\n",
    "\n",
    "# Выведите лучшие гиперпараметры и точность модели\n",
    "print('Best params:', search_rf.best_params_)\n",
    "print('Best score:', search_rf.best_score_)"
   ]
  },
  {
   "cell_type": "code",
   "execution_count": null,
   "id": "e8ee31d9-741f-4185-8f5c-51f8ee91156d",
   "metadata": {},
   "outputs": [],
   "source": [
    "params = {\n",
    "    'min_samples_leaf': 1, 'max_depth': 10, 'min_samples_split': 8\n",
    "         }\n",
    "model_rf = RandomForestClassifier(**params,\n",
    "                              class_weight='balanced', random_state=42, n_estimators=100, verbose=0)\n",
    "\n",
    "model_rf.fit(X_train_transformed, Y_train,\n",
    "         )"
   ]
  },
  {
   "cell_type": "code",
   "execution_count": null,
   "id": "3358a0dc-0d90-46ab-8055-3a067191a4a5",
   "metadata": {},
   "outputs": [],
   "source": []
  },
  {
   "cell_type": "code",
   "execution_count": null,
   "id": "7fa718a6-0ffb-4a3c-8e42-26720fc5f7be",
   "metadata": {},
   "outputs": [],
   "source": [
    "# LGBM\n",
    "search_lgb = optuna.integration.OptunaSearchCV(\n",
    "    estimator=lgb.LGBMClassifier(scale_pos_weight=scale, random_state=42, verbose=0, n_estimators=180),\n",
    "    param_distributions={\n",
    "        'lambda_l1': optuna.distributions.FloatDistribution(1e-8, 10.0),\n",
    "        'lambda_l2': optuna.distributions.FloatDistribution(1e-8, 10.0),\n",
    "        'num_leaves': optuna.distributions.IntDistribution(2, 256),\n",
    "        'feature_fraction':optuna.distributions.FloatDistribution(0.4, 1.0),\n",
    "        'bagging_fraction': optuna.distributions.FloatDistribution(0.4, 1.0),\n",
    "        'bagging_freq':optuna.distributions.IntDistribution(1, 7),\n",
    "        'min_child_samples': optuna.distributions.IntDistribution(5, 100)\n",
    "    },\n",
    "\n",
    "    cv=5,\n",
    "    n_trials=20,\n",
    "    random_state=42,\n",
    "    scoring='recall_macro'\n",
    ")\n",
    "\n",
    "# Запустите поиск гиперпараметров\n",
    "search_lgb.fit(X_train_transformed, Y_train)\n",
    "\n",
    "# Выведите лучшие гиперпараметры и точность модели\n",
    "print('Best params:', search_lgb.best_params_)\n",
    "print('Best score:', search_lgb.best_score_)"
   ]
  },
  {
   "cell_type": "code",
   "execution_count": null,
   "id": "e9dfe13a-603c-4453-9a6c-e3dc18210dcc",
   "metadata": {},
   "outputs": [],
   "source": [
    "params = {\n",
    "'lambda_l1': 1.0505721904583707, 'lambda_l2': 4.857206182144106, 'num_leaves': 51, 'feature_fraction': 0.9822057161879939, 'bagging_fraction': 0.8242312633076625, 'bagging_freq': 2, 'min_child_samples': 73\n",
    "}\n",
    "\n",
    "model_lgb = lgb.LGBMClassifier(**params,\n",
    "                              scale_pos_weight=scale, random_state=42, n_estimators=180, verbose=0)\n",
    "\n",
    "model_lgb.fit(X_train_transformed, Y_train,\n",
    "         )"
   ]
  },
  {
   "cell_type": "markdown",
   "id": "c1165fc0-c2b3-4aba-9668-77ea887db3c9",
   "metadata": {},
   "source": [
    "Voting Classifier"
   ]
  },
  {
   "cell_type": "code",
   "execution_count": null,
   "id": "f3f3ad30-d339-42f5-a8df-2f044666b41c",
   "metadata": {},
   "outputs": [],
   "source": [
    "clf1 = model_cat\n",
    "clf2 = model_xg\n",
    "clf3 = model_lgb\n",
    "clf4 = model_rf\n",
    "\n",
    "model_vt = VotingClassifier(estimators=[('cat', clf1), ('xgb', clf2), ('lgb', clf3), ('rf', clf4)], voting='soft')\n",
    "model_vt.fit(X_train_transformed, Y_train,\n",
    "         )"
   ]
  },
  {
   "cell_type": "code",
   "execution_count": null,
   "id": "03aaaa02-639c-44e6-ade7-644945915b3e",
   "metadata": {},
   "outputs": [],
   "source": []
  },
  {
   "cell_type": "code",
   "execution_count": null,
   "id": "744829db-a235-4228-a6e3-1d352c990371",
   "metadata": {},
   "outputs": [],
   "source": []
  },
  {
   "cell_type": "code",
   "execution_count": null,
   "id": "76644a08-3524-4e51-bac1-7b798dc0412b",
   "metadata": {},
   "outputs": [],
   "source": []
  },
  {
   "cell_type": "markdown",
   "id": "478606e5-bdd8-411f-b750-707f9184d4ec",
   "metadata": {},
   "source": [
    "Metrics Script"
   ]
  },
  {
   "cell_type": "code",
   "execution_count": null,
   "id": "e126efc7-ab3d-45c0-9cf1-897a707b0c20",
   "metadata": {},
   "outputs": [],
   "source": [
    "model = model_lgb"
   ]
  },
  {
   "cell_type": "code",
   "execution_count": null,
   "id": "fb4c1b05-95c7-4dc2-8d56-23aa426ae1e6",
   "metadata": {},
   "outputs": [],
   "source": [
    "Y_pred_valid = model.predict(X_valid_transformed)\n",
    "confusion_matrix(Y_valid, Y_pred_valid)\n",
    "\n",
    "Y_pred_train = model.predict(X_train_transformed)\n",
    "confusion_matrix(Y_train, Y_pred_train)\n",
    "\n",
    "print(classification_report(Y_valid, Y_pred_valid))\n",
    "\n",
    "print(classification_report(Y_train, Y_pred_train))\n",
    "\n",
    "Y_pred_prob_valid = model.predict_proba(X_valid_transformed)\n",
    "ap_score = average_precision_score(Y_valid, Y_pred_prob_valid[:,1])\n",
    "print(ap_score)\n",
    "\n",
    "Y_pred_prob_train = model.predict_proba(X_train_transformed)\n",
    "ap_score = average_precision_score(Y_train, Y_pred_prob_train[:,1])\n",
    "print(ap_score)"
   ]
  },
  {
   "cell_type": "markdown",
   "id": "0f8ebbee-088e-4b7e-ab55-8bde5692581a",
   "metadata": {},
   "source": [
    "Precision & Recall"
   ]
  },
  {
   "cell_type": "code",
   "execution_count": null,
   "id": "b1b90b33-6051-4603-b5e3-13fa90622286",
   "metadata": {},
   "outputs": [],
   "source": [
    "thresh_values = [0.1, 0.2, 0.3, 0.4, 0.5]\n",
    "precision_scores = []\n",
    "recall_scores = []\n",
    "for threshold in thresh_values:\n",
    "    model_fixed_threshold = FixedThresholdClassifier(estimator=model, threshold=threshold)\n",
    "    y_pred = model_fixed_threshold.predict(X_valid_transformed)\n",
    "    precision = precision_score(Y_valid, y_pred)\n",
    "    recall = recall_score(Y_valid, y_pred)\n",
    "    precision_scores.append(precision)\n",
    "    recall_scores.append(recall)\n",
    "    print(f'Threshold: {threshold}, Precision: {precision}, Recall: {recall}')\n",
    "    print(confusion_matrix(Y_valid, y_pred))\n",
    "plt.plot(thresh_values, precision_scores, label='Precision')\n",
    "plt.plot(thresh_values, recall_scores, label='Recall')\n",
    "plt.xlabel('Threshold')\n",
    "plt.ylabel('Score')\n",
    "plt.title('Precision and recall at different thresholds')\n",
    "plt.legend()\n",
    "plt.show()"
   ]
  },
  {
   "cell_type": "markdown",
   "id": "6f2dbcfc-e266-482c-ae5e-354fcb9f0edf",
   "metadata": {},
   "source": [
    "ROC_AUC"
   ]
  },
  {
   "cell_type": "code",
   "execution_count": null,
   "id": "1177265a-ada7-4cc0-8d0d-16e92942746c",
   "metadata": {},
   "outputs": [],
   "source": [
    "Y_pred_prob_train = model.predict_proba(X_train_transformed)\n",
    "Y_pred_prob = model.predict_proba(X_valid_transformed)\n",
    "\n",
    "fpr_valid, tpr_valid, thresholds_valid = roc_curve(Y_valid, Y_pred_prob[:,1])\n",
    "roc_auc_valid = auc(fpr_valid, tpr_valid)\n",
    "\n",
    "\n",
    "fpr_train, tpr_train, thresholds_train = roc_curve(Y_train, Y_pred_prob_train[:,1])\n",
    "roc_auc_train = auc(fpr_train, tpr_train)\n",
    "\n",
    "\n",
    "lw = 2\n",
    "plt.figure()\n",
    "\n",
    "\n",
    "plt.plot(fpr_valid, tpr_valid, color='darkorange', lw=lw, \n",
    "         label='ROC curve (valid) (area = %0.2f)' % roc_auc_valid)\n",
    "\n",
    "\n",
    "plt.plot(fpr_train, tpr_train, color='blue', lw=lw, \n",
    "         label='ROC curve (train) (area = %0.2f)' % roc_auc_train)\n",
    "\n",
    "\n",
    "plt.plot([0, 1], [0, 1], color='navy', lw=lw, linestyle='--')\n",
    "\n",
    "plt.xlim([0.0, 1.0])\n",
    "plt.ylim([0.0, 1.05])\n",
    "plt.xlabel('False Positive Rate')\n",
    "plt.ylabel('True Positive Rate')\n",
    "plt.title('Receiver operating characteristic')\n",
    "plt.legend(loc=\"lower right\")\n",
    "plt.show()"
   ]
  },
  {
   "cell_type": "markdown",
   "id": "df398898-ca05-4667-8e28-6bbac4f11253",
   "metadata": {},
   "source": [
    "Predicted Probabilities"
   ]
  },
  {
   "cell_type": "code",
   "execution_count": null,
   "id": "ab24c0c1-58f1-4a5e-bf50-a21638678265",
   "metadata": {},
   "outputs": [],
   "source": [
    "y_pred_proba = np.array(Y_pred_prob[:,1])  \n",
    "\n",
    "plt.hist(y_pred_proba, bins=200, alpha=0.7, color='blue', edgecolor='black')\n",
    "\n",
    "plt.title('Predicted Probabilities')\n",
    "plt.xlabel('Probability')\n",
    "plt.ylabel('Count')\n",
    "\n",
    "plt.show()"
   ]
  },
  {
   "cell_type": "markdown",
   "id": "d026f090-9813-475f-97ac-abafc7bbef83",
   "metadata": {},
   "source": [
    "Feature importances"
   ]
  },
  {
   "cell_type": "code",
   "execution_count": null,
   "id": "308a4889-745f-495c-809e-75d6773d5211",
   "metadata": {},
   "outputs": [],
   "source": [
    "feature_importance = model.feature_importances_\n",
    "sorted_idx = np.argsort(feature_importance)\n",
    "fig = plt.figure(figsize=(12, 11))\n",
    "plt.barh(range(len(sorted_idx)), feature_importance[sorted_idx], align='center')\n",
    "plt.yticks(range(len(sorted_idx)), np.array(X_train_transformed.columns)[sorted_idx])\n",
    "plt.title('Feature Importance')"
   ]
  },
  {
   "cell_type": "code",
   "execution_count": null,
   "id": "31e62acf-8f9b-4260-8e8b-8a0399db9841",
   "metadata": {},
   "outputs": [],
   "source": []
  },
  {
   "cell_type": "code",
   "execution_count": null,
   "id": "767c4011-99c7-474d-8ed1-09360098727a",
   "metadata": {},
   "outputs": [],
   "source": []
  },
  {
   "cell_type": "code",
   "execution_count": null,
   "id": "919b9e5e-2cf8-4131-b8ad-b238b5e6650d",
   "metadata": {},
   "outputs": [],
   "source": []
  },
  {
   "cell_type": "code",
   "execution_count": null,
   "id": "5e1e4698-52a2-49cf-9183-aa238dbe9c85",
   "metadata": {},
   "outputs": [],
   "source": []
  }
 ],
 "metadata": {
  "kernelspec": {
   "display_name": "Python 3 (ipykernel)",
   "language": "python",
   "name": "python3"
  },
  "language_info": {
   "codemirror_mode": {
    "name": "ipython",
    "version": 3
   },
   "file_extension": ".py",
   "mimetype": "text/x-python",
   "name": "python",
   "nbconvert_exporter": "python",
   "pygments_lexer": "ipython3",
   "version": "3.10.17"
  }
 },
 "nbformat": 4,
 "nbformat_minor": 5
}
